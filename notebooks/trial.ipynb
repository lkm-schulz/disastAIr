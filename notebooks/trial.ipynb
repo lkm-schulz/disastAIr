{
 "cells": [
  {
   "cell_type": "code",
   "execution_count": 24,
   "metadata": {},
   "outputs": [],
   "source": [
    "import pandas as pd\n",
    "import numpy as np\n",
    "import re\n",
    "\n",
    "data = pd.read_csv('../data/train.csv')"
   ]
  },
  {
   "cell_type": "markdown",
   "metadata": {},
   "source": [
    "Convert data to lowercase and remove all URLs"
   ]
  },
  {
   "cell_type": "code",
   "execution_count": 25,
   "metadata": {},
   "outputs": [],
   "source": [
    "cleanedData = data['text'].str.lower()\n",
    "cleanedData = cleanedData.replace(to_replace = r'https?:\\/\\/.*[\\r\\n]*|[^\\w\\s]', value = \" \", regex=True)"
   ]
  },
  {
   "cell_type": "markdown",
   "metadata": {},
   "source": [
    "Tokenize each string"
   ]
  },
  {
   "cell_type": "code",
   "execution_count": 26,
   "metadata": {},
   "outputs": [],
   "source": [
    "tokens = []\n",
    "\n",
    "for i in range(len(cleanedData)):\n",
    "    tokens.append([data for data in cleanedData[i].split(\" \") if data])"
   ]
  },
  {
   "cell_type": "markdown",
   "metadata": {},
   "source": [
    "Find frequency of each token"
   ]
  },
  {
   "cell_type": "code",
   "execution_count": 35,
   "metadata": {},
   "outputs": [],
   "source": [
    "frequencies = {} # token : frequency\n",
    "for row in tokens:\n",
    "    for word in row:\n",
    "        frequencies[word] = frequencies.get(word, 0) + 1"
   ]
  },
  {
   "cell_type": "markdown",
   "metadata": {},
   "source": [
    "Find rank of each token. Low rank (ie. 1) means word is more frequent"
   ]
  },
  {
   "cell_type": "code",
   "execution_count": 39,
   "metadata": {},
   "outputs": [],
   "source": [
    "frequency_set = sorted(set(list(frequencies.values())))[::-1]\n",
    "num_ranks = len(frequency_set)\n",
    "\n",
    "frequency_to_rank = {}\n",
    "\n",
    "for i, freq in enumerate(frequency_set):\n",
    "    frequency_to_rank[freq] = i+1\n",
    "\n",
    "ranks = {} # token : rank\n",
    "\n",
    "for key, value in frequencies.items():\n",
    "    ranks[key] = frequency_to_rank[value]"
   ]
  },
  {
   "cell_type": "code",
   "execution_count": 40,
   "metadata": {},
   "outputs": [
    {
     "name": "stdout",
     "output_type": "stream",
     "text": [
      "1. Example entry:\n",
      "\t #AFRICANBAZE: Breaking news:Nigeria flag set ablaze in Aba. http://t.co/2nndBGwyEi\n",
      "\n",
      "2. Cleaned entry:\n",
      "\t  africanbaze  breaking news nigeria flag set ablaze in aba   \n",
      "\n",
      "3. Tokenize:\n",
      "\t ['africanbaze', 'breaking', 'news', 'nigeria', 'flag', 'set', 'ablaze', 'in', 'aba']\n",
      "\n",
      "4. Token Frequencies and Ranks:\n",
      "\t[token] : [frequency] | [rank]\n",
      "\tafricanbaze : 1 | 187\n",
      "\tbreaking : 40 | 148\n",
      "\tnews : 154 | 67\n",
      "\tnigeria : 4 | 184\n",
      "\tflag : 21 | 167\n",
      "\tset : 47 | 141\n",
      "\tablaze : 28 | 160\n",
      "\tin : 1952 | 3\n",
      "\taba : 14 | 174\n"
     ]
    }
   ],
   "source": [
    "test_case_index = 33\n",
    "\n",
    "print(\"1. Example entry:\\n\\t\", data['text'][test_case_index])\n",
    "print(\"\\n2. Cleaned entry:\\n\\t\",cleanedData[test_case_index])\n",
    "print(\"\\n3. Tokenize:\\n\\t\", tokens[test_case_index])\n",
    "\n",
    "print(\"\\n4. Token Frequencies and Ranks:\\n\\t[token] : [frequency] | [rank]\")\n",
    "for token in tokens[test_case_index]:\n",
    "    print(f\"\\t{token} : {frequencies[token]} | {ranks[token]}\")"
   ]
  }
 ],
 "metadata": {
  "kernelspec": {
   "display_name": "Python 3",
   "language": "python",
   "name": "python3"
  },
  "language_info": {
   "codemirror_mode": {
    "name": "ipython",
    "version": 3
   },
   "file_extension": ".py",
   "mimetype": "text/x-python",
   "name": "python",
   "nbconvert_exporter": "python",
   "pygments_lexer": "ipython3",
   "version": "3.10.13"
  }
 },
 "nbformat": 4,
 "nbformat_minor": 2
}
