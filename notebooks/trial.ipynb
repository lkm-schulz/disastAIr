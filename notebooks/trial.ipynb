{
 "cells": [
  {
   "cell_type": "code",
   "execution_count": 31,
   "metadata": {},
   "outputs": [],
   "source": [
    "import pandas as pd\n",
    "import numpy as np\n",
    "import re\n",
    "\n",
    "data = pd.read_csv('../data/train.csv')"
   ]
  },
  {
   "cell_type": "code",
   "execution_count": 32,
   "metadata": {},
   "outputs": [],
   "source": [
    "cleanedData = data['text'].str.lower()\n",
    "cleanedData = cleanedData.replace(to_replace = r'https?:\\/\\/.*[\\r\\n]*|[^\\w\\s]', value = \" \", regex=True)"
   ]
  },
  {
   "cell_type": "code",
   "execution_count": 33,
   "metadata": {},
   "outputs": [],
   "source": [
    "tokens = []\n",
    "\n",
    "for i in range(len(cleanedData)):\n",
    "    tokens.append([data for data in cleanedData[i].split(\" \") if data])"
   ]
  },
  {
   "cell_type": "code",
   "execution_count": 34,
   "metadata": {},
   "outputs": [],
   "source": [
    "frequencies = {}\n",
    "for row in tokens:\n",
    "    for word in row:\n",
    "        frequencies[word] = frequencies.get(word, 0) + 1"
   ]
  },
  {
   "cell_type": "code",
   "execution_count": 40,
   "metadata": {},
   "outputs": [
    {
     "name": "stdout",
     "output_type": "stream",
     "text": [
      "1. Example entry:\n",
      "\t #AFRICANBAZE: Breaking news:Nigeria flag set ablaze in Aba. http://t.co/2nndBGwyEi\n",
      "\n",
      "2. Cleaned entry:\n",
      "\t  africanbaze  breaking news nigeria flag set ablaze in aba   \n",
      "\n",
      "3. Tokenize:\n",
      "\t ['africanbaze', 'breaking', 'news', 'nigeria', 'flag', 'set', 'ablaze', 'in', 'aba']\n",
      "\n",
      "4. Token Frequencies:\n",
      "\tafricanbaze : 1\n",
      "\tbreaking : 40\n",
      "\tnews : 154\n",
      "\tnigeria : 4\n",
      "\tflag : 21\n",
      "\tset : 47\n",
      "\tablaze : 28\n",
      "\tin : 1952\n",
      "\taba : 14\n"
     ]
    }
   ],
   "source": [
    "print(\"1. Example entry:\\n\\t\", data['text'][33])\n",
    "print(\"\\n2. Cleaned entry:\\n\\t\",cleanedData[33])\n",
    "print(\"\\n3. Tokenize:\\n\\t\", tokens[33])\n",
    "\n",
    "print(\"\\n4. Token Frequencies:\")\n",
    "for token in tokens[33]:\n",
    "    print(\"\\t{} : {}\".format(token, frequencies[token]))"
   ]
  }
 ],
 "metadata": {
  "kernelspec": {
   "display_name": "Python 3",
   "language": "python",
   "name": "python3"
  },
  "language_info": {
   "codemirror_mode": {
    "name": "ipython",
    "version": 3
   },
   "file_extension": ".py",
   "mimetype": "text/x-python",
   "name": "python",
   "nbconvert_exporter": "python",
   "pygments_lexer": "ipython3",
   "version": "3.10.13"
  }
 },
 "nbformat": 4,
 "nbformat_minor": 2
}
