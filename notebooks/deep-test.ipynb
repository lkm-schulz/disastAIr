{
 "cells": [
  {
   "cell_type": "markdown",
   "metadata": {},
   "source": [
    "Hyperparameters"
   ]
  },
  {
   "cell_type": "code",
   "execution_count": 41,
   "metadata": {},
   "outputs": [],
   "source": [
    "BATCH_SIZE = [8, 16, 32, 64, 128, 256]\n",
    "EPOCHS = 1"
   ]
  },
  {
   "cell_type": "markdown",
   "metadata": {},
   "source": [
    "Install Keras Packages"
   ]
  },
  {
   "cell_type": "code",
   "execution_count": 37,
   "metadata": {},
   "outputs": [
    {
     "name": "stdout",
     "output_type": "stream",
     "text": [
      "Requirement already satisfied: keras-core in /home/dvs254/venv3.12/lib/python3.12/site-packages (0.1.7)\n",
      "Requirement already satisfied: absl-py in /home/dvs254/venv3.12/lib/python3.12/site-packages (from keras-core) (2.1.0)\n",
      "Requirement already satisfied: numpy in /home/dvs254/venv3.12/lib/python3.12/site-packages (from keras-core) (1.26.4)\n",
      "Requirement already satisfied: rich in /home/dvs254/venv3.12/lib/python3.12/site-packages (from keras-core) (13.7.1)\n",
      "Requirement already satisfied: namex in /home/dvs254/venv3.12/lib/python3.12/site-packages (from keras-core) (0.0.7)\n",
      "Requirement already satisfied: h5py in /home/dvs254/venv3.12/lib/python3.12/site-packages (from keras-core) (3.10.0)\n",
      "Requirement already satisfied: dm-tree in /home/dvs254/venv3.12/lib/python3.12/site-packages (from keras-core) (0.1.8)\n",
      "Requirement already satisfied: markdown-it-py>=2.2.0 in /home/dvs254/venv3.12/lib/python3.12/site-packages (from rich->keras-core) (3.0.0)\n",
      "Requirement already satisfied: pygments<3.0.0,>=2.13.0 in /home/dvs254/venv3.12/lib/python3.12/site-packages (from rich->keras-core) (2.17.2)\n",
      "Requirement already satisfied: mdurl~=0.1 in /home/dvs254/venv3.12/lib/python3.12/site-packages (from markdown-it-py>=2.2.0->rich->keras-core) (0.1.2)\n"
     ]
    }
   ],
   "source": [
    "!pip install keras-core --upgrade\n",
    "!pip install -q keras-nlp --upgrade\n",
    "\n",
    "# This sample uses Keras Core, the multi-backend version of Keras.\n",
    "# The selected backend is TensorFlow (other supported backends are 'jax' and 'torch')\n",
    "import os\n",
    "os.environ['KERAS_BACKEND'] = 'tensorflow'"
   ]
  },
  {
   "cell_type": "markdown",
   "metadata": {},
   "source": [
    "Imports and directories"
   ]
  },
  {
   "cell_type": "code",
   "execution_count": 38,
   "metadata": {},
   "outputs": [
    {
     "name": "stdout",
     "output_type": "stream",
     "text": [
      "TensorFlow version: 2.17.0-dev20240310\n",
      "Keras version: 0.1.7\n"
     ]
    }
   ],
   "source": [
    "import numpy as np # linear algebra\n",
    "import pandas as pd # data processing, CSV file I/O (e.g. pd.read_csv)\n",
    "import tensorflow as tf\n",
    "import keras_core as keras\n",
    "import keras_nlp\n",
    "from sklearn.metrics import ConfusionMatrixDisplay, confusion_matrix\n",
    "import seaborn as sns\n",
    "import matplotlib.pyplot as plt\n",
    "import time\n",
    "\n",
    "print(\"TensorFlow version:\", tf.__version__)\n",
    "print(\"Keras version:\", keras.__version__)\n",
    "\n",
    "DIR_DATA = os.path.join(\"..\", \"data\")\n",
    "PATH_DATA_TRAIN = os.path.join(DIR_DATA, \"train.csv\")\n",
    "PATH_DATA_TEST = os.path.join(DIR_DATA, \"test-labeled.csv\")"
   ]
  },
  {
   "cell_type": "markdown",
   "metadata": {},
   "source": [
    "Load disaster tweets"
   ]
  },
  {
   "cell_type": "code",
   "execution_count": 39,
   "metadata": {},
   "outputs": [
    {
     "name": "stdout",
     "output_type": "stream",
     "text": [
      "Training Set Shape = (65, 5)\n",
      "Training Set Memory Usage = 0.00 MB\n",
      "Test Set Shape = (19, 5)\n",
      "Test Set Memory Usage = 0.00 MB\n"
     ]
    },
    {
     "data": {
      "text/html": [
       "<div>\n",
       "<style scoped>\n",
       "    .dataframe tbody tr th:only-of-type {\n",
       "        vertical-align: middle;\n",
       "    }\n",
       "\n",
       "    .dataframe tbody tr th {\n",
       "        vertical-align: top;\n",
       "    }\n",
       "\n",
       "    .dataframe thead th {\n",
       "        text-align: right;\n",
       "    }\n",
       "</style>\n",
       "<table border=\"1\" class=\"dataframe\">\n",
       "  <thead>\n",
       "    <tr style=\"text-align: right;\">\n",
       "      <th></th>\n",
       "      <th>id</th>\n",
       "      <th>keyword</th>\n",
       "      <th>location</th>\n",
       "      <th>text</th>\n",
       "      <th>target</th>\n",
       "    </tr>\n",
       "  </thead>\n",
       "  <tbody>\n",
       "    <tr>\n",
       "      <th>0</th>\n",
       "      <td>1</td>\n",
       "      <td>NaN</td>\n",
       "      <td>NaN</td>\n",
       "      <td>Our Deeds are the Reason of this #earthquake M...</td>\n",
       "      <td>1</td>\n",
       "    </tr>\n",
       "    <tr>\n",
       "      <th>1</th>\n",
       "      <td>4</td>\n",
       "      <td>NaN</td>\n",
       "      <td>NaN</td>\n",
       "      <td>Forest fire near La Ronge Sask. Canada</td>\n",
       "      <td>1</td>\n",
       "    </tr>\n",
       "    <tr>\n",
       "      <th>2</th>\n",
       "      <td>5</td>\n",
       "      <td>NaN</td>\n",
       "      <td>NaN</td>\n",
       "      <td>All residents asked to 'shelter in place' are ...</td>\n",
       "      <td>1</td>\n",
       "    </tr>\n",
       "    <tr>\n",
       "      <th>3</th>\n",
       "      <td>6</td>\n",
       "      <td>NaN</td>\n",
       "      <td>NaN</td>\n",
       "      <td>13,000 people receive #wildfires evacuation or...</td>\n",
       "      <td>1</td>\n",
       "    </tr>\n",
       "    <tr>\n",
       "      <th>4</th>\n",
       "      <td>7</td>\n",
       "      <td>NaN</td>\n",
       "      <td>NaN</td>\n",
       "      <td>Just got sent this photo from Ruby #Alaska as ...</td>\n",
       "      <td>1</td>\n",
       "    </tr>\n",
       "  </tbody>\n",
       "</table>\n",
       "</div>"
      ],
      "text/plain": [
       "   id keyword location                                               text  \\\n",
       "0   1     NaN      NaN  Our Deeds are the Reason of this #earthquake M...   \n",
       "1   4     NaN      NaN             Forest fire near La Ronge Sask. Canada   \n",
       "2   5     NaN      NaN  All residents asked to 'shelter in place' are ...   \n",
       "3   6     NaN      NaN  13,000 people receive #wildfires evacuation or...   \n",
       "4   7     NaN      NaN  Just got sent this photo from Ruby #Alaska as ...   \n",
       "\n",
       "   target  \n",
       "0       1  \n",
       "1       1  \n",
       "2       1  \n",
       "3       1  \n",
       "4       1  "
      ]
     },
     "execution_count": 39,
     "metadata": {},
     "output_type": "execute_result"
    }
   ],
   "source": [
    "df_train = pd.read_csv(PATH_DATA_TRAIN)\n",
    "df_test = pd.read_csv(PATH_DATA_TEST)\n",
    "\n",
    "print('Training Set Shape = {}'.format(df_train.shape))\n",
    "print('Training Set Memory Usage = {:.2f} MB'.format(df_train.memory_usage().sum() / 1024**2))\n",
    "print('Test Set Shape = {}'.format(df_test.shape))\n",
    "print('Test Set Memory Usage = {:.2f} MB'.format(df_test.memory_usage().sum() / 1024**2))\n",
    "\n",
    "df_train.head()"
   ]
  },
  {
   "cell_type": "markdown",
   "metadata": {},
   "source": [
    "## Preprocess the data\n",
    "\n",
    "Stable parameters"
   ]
  },
  {
   "cell_type": "code",
   "execution_count": 40,
   "metadata": {},
   "outputs": [],
   "source": [
    "NUM_TRAINING_EXAMPLES = df_train.shape[0]\n",
    "TRAIN_SPLIT = 0.8\n",
    "VAL_SPLIT = 0.2\n",
    "\n",
    "AUTO = tf.data.experimental.AUTOTUNE"
   ]
  },
  {
   "cell_type": "markdown",
   "metadata": {},
   "source": [
    "Spilt training and test data"
   ]
  },
  {
   "cell_type": "code",
   "execution_count": 42,
   "metadata": {},
   "outputs": [],
   "source": [
    "from sklearn.model_selection import train_test_split\n",
    "\n",
    "X = df_train[\"text\"]\n",
    "y = df_train[\"target\"]\n",
    "\n",
    "X_train, X_val, y_train, y_val = train_test_split(X, y, test_size=VAL_SPLIT, random_state=42)\n",
    "\n",
    "X_test = df_test[\"text\"]\n",
    "Y_test = df_test[\"target\"]"
   ]
  },
  {
   "cell_type": "markdown",
   "metadata": {},
   "source": [
    "Perform the learning and testing with validation data"
   ]
  },
  {
   "cell_type": "code",
   "execution_count": 43,
   "metadata": {},
   "outputs": [],
   "source": [
    "class ConfusionMatrix:\n",
    "    tp: int\n",
    "    fp: int\n",
    "    tn: int\n",
    "    fn: int\n",
    "\n",
    "    def __init__(self, tp: int = 0, tn: int = 0, fp: int = 0, fn: int = 0):\n",
    "        self.tp = tp\n",
    "        self.fp = fp\n",
    "        self.tn = tn\n",
    "        self.fn = fn\n",
    "\n",
    "    def __str__(self):\n",
    "        total = self.tp + self.fp + self.tn + self.fn\n",
    "        return f'{total},{self.tp},{self.tn},{self.fp},{self.fn},{self.get_precision()},{self.get_recall()},{self.get_f1()}'\n",
    "    \n",
    "    def get_f1(self):\n",
    "        return 2 * ((self.get_precision() * self.get_recall()) / (self.get_precision() + self.get_recall()))\n",
    "    \n",
    "    def get_precision(self):\n",
    "        return self.tp / (self.tp + self.fp)\n",
    "\n",
    "    def get_recall(self):\n",
    "        return self.tp / (self.tp + self.fn) \n",
    "\n",
    "    def add(self, rhs: 'ConfusionMatrix'):\n",
    "        self.tp += rhs.tp\n",
    "        self.fp += rhs.fp\n",
    "        self.tn += rhs.tn\n",
    "        self.fn += rhs.fn\n",
    "\n",
    "    def div(self, divisor):\n",
    "        self.tp /= divisor\n",
    "        self.fp /= divisor\n",
    "        self.tn /= divisor\n",
    "        self.fn /= divisor\n",
    "\n",
    "    @classmethod\n",
    "    def average(cls, matrices: list['ConfusionMatrix']):\n",
    "        result = ConfusionMatrix()\n",
    "        for cm in matrices:\n",
    "            result.add(cm)\n",
    "        result.div(len(matrices))\n",
    "\n",
    "        return result\n",
    "        "
   ]
  },
  {
   "cell_type": "code",
   "execution_count": 44,
   "metadata": {},
   "outputs": [],
   "source": [
    "from keras.optimizers import Adam\n",
    "\n",
    "def trainAndValidate(_batch_size, _epochs):\n",
    "\n",
    "    time_train_start = time.process_time_ns()\n",
    "\n",
    "    # Load a DistilBERT model.\n",
    "    preset= \"distil_bert_base_en_uncased\"\n",
    "\n",
    "    # Use a shorter sequence length.\n",
    "    preprocessor = keras_nlp.models.DistilBertPreprocessor.from_preset(preset,\n",
    "                                                                    sequence_length=160,\n",
    "                                                                    name=\"preprocessor_4_tweets\"\n",
    "                                                                    )\n",
    "\n",
    "    # Pretrained classifier.\n",
    "    classifier = keras_nlp.models.DistilBertClassifier.from_preset(preset,\n",
    "                                                               preprocessor = preprocessor, \n",
    "                                                               num_classes=2)\n",
    "    \n",
    "    # Compile\n",
    "    classifier.compile(\n",
    "        loss=keras.losses.SparseCategoricalCrossentropy(from_logits=True), #'binary_crossentropy',\n",
    "        optimizer=Adam(1e-5),\n",
    "        metrics=[\"accuracy\"]\n",
    "    )\n",
    "\n",
    "    # Fit\n",
    "    history = classifier.fit(x=X_train,\n",
    "                            y=y_train,\n",
    "                            batch_size=_batch_size,\n",
    "                            epochs=_epochs,\n",
    "                            validation_data=(X_val, y_val)\n",
    "                            )\n",
    "    \n",
    "    time_train_end = time.process_time_ns()\n",
    "    \n",
    "    y_pred_test = classifier.predict(X_test)\n",
    "\n",
    "    time_pred_end = time.process_time_ns()\n",
    "\n",
    "    time_training = (time_train_end - time_train_start) / 10**10\n",
    "    time_prediction = (time_pred_end - time_train_end) / 10**10\n",
    "\n",
    "    tn, fp, fn, tp = confusion_matrix(Y_test, np.argmax(y_pred_test, axis=1)).ravel()\n",
    "    with open('results-keras-test.txt', 'a') as fout:\n",
    "        fout.write(f'{_batch_size},{_epochs},')\n",
    "        fout.write(str(ConfusionMatrix(tp, tn, fp, fn)) + ',')\n",
    "        fout.write(f'{time_training},{time_prediction}\\n')\n"
   ]
  },
  {
   "cell_type": "code",
   "execution_count": 45,
   "metadata": {},
   "outputs": [
    {
     "name": "stdout",
     "output_type": "stream",
     "text": [
      "\u001b[1m7/7\u001b[0m \u001b[32m━━━━━━━━━━━━━━━━━━━━\u001b[0m\u001b[37m\u001b[0m \u001b[1m0s\u001b[0m 1s/step - accuracy: 0.4505 - loss: 0.6955WARNING:tensorflow:5 out of the last 9 calls to <function TensorFlowTrainer.make_test_function.<locals>.one_step_on_iterator at 0x2aab801b39c0> triggered tf.function retracing. Tracing is expensive and the excessive number of tracings could be due to (1) creating @tf.function repeatedly in a loop, (2) passing tensors with different shapes, (3) passing Python objects instead of tensors. For (1), please define your @tf.function outside of the loop. For (2), @tf.function has reduce_retracing=True option that can avoid unnecessary retracing. For (3), please refer to https://www.tensorflow.org/guide/function#controlling_retracing and https://www.tensorflow.org/api_docs/python/tf/function for  more details.\n",
      "\u001b[1m7/7\u001b[0m \u001b[32m━━━━━━━━━━━━━━━━━━━━\u001b[0m\u001b[37m\u001b[0m \u001b[1m33s\u001b[0m 2s/step - accuracy: 0.4543 - loss: 0.6949 - val_accuracy: 0.3846 - val_loss: 0.6945\n",
      "WARNING:tensorflow:5 out of the last 5 calls to <function TensorFlowTrainer.make_predict_function.<locals>.one_step_on_data_distributed at 0x2aab801b0680> triggered tf.function retracing. Tracing is expensive and the excessive number of tracings could be due to (1) creating @tf.function repeatedly in a loop, (2) passing tensors with different shapes, (3) passing Python objects instead of tensors. For (1), please define your @tf.function outside of the loop. For (2), @tf.function has reduce_retracing=True option that can avoid unnecessary retracing. For (3), please refer to https://www.tensorflow.org/guide/function#controlling_retracing and https://www.tensorflow.org/api_docs/python/tf/function for  more details.\n",
      "\u001b[1m1/1\u001b[0m \u001b[32m━━━━━━━━━━━━━━━━━━━━\u001b[0m\u001b[37m\u001b[0m \u001b[1m2s\u001b[0m 2s/step\n"
     ]
    }
   ],
   "source": [
    "for batch_size in BATCH_SIZE:\n",
    "    trainAndValidate(batch_size, EPOCHS)"
   ]
  }
 ],
 "metadata": {
  "kernelspec": {
   "display_name": "venv3.12",
   "language": "python",
   "name": "venv3.12"
  },
  "language_info": {
   "codemirror_mode": {
    "name": "ipython",
    "version": 3
   },
   "file_extension": ".py",
   "mimetype": "text/x-python",
   "name": "python",
   "nbconvert_exporter": "python",
   "pygments_lexer": "ipython3",
   "version": "3.12.2"
  }
 },
 "nbformat": 4,
 "nbformat_minor": 2
}
